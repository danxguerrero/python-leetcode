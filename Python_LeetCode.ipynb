{
  "nbformat": 4,
  "nbformat_minor": 0,
  "metadata": {
    "colab": {
      "provenance": [],
      "authorship_tag": "ABX9TyMGADxJWfCD1dWGShnSrcUS",
      "include_colab_link": true
    },
    "kernelspec": {
      "name": "python3",
      "display_name": "Python 3"
    },
    "language_info": {
      "name": "python"
    }
  },
  "cells": [
    {
      "cell_type": "markdown",
      "metadata": {
        "id": "view-in-github",
        "colab_type": "text"
      },
      "source": [
        "<a href=\"https://colab.research.google.com/github/danxguerrero/python-leetcode/blob/main/Python_LeetCode.ipynb\" target=\"_parent\"><img src=\"https://colab.research.google.com/assets/colab-badge.svg\" alt=\"Open In Colab\"/></a>"
      ]
    },
    {
      "cell_type": "markdown",
      "source": [
        "226. Invert Binary Tree\n",
        "\n",
        "Given the root of a binary tree, invert the tree, and return its root.\n",
        "\n",
        "Example 1:\n",
        "\n",
        "Input: root = [4,2,7,1,3,6,9]\n",
        "Output: [4,7,2,9,6,3,1]\n",
        "Example 2:\n",
        "\n",
        "Input: root = [2,1,3]\n",
        "Output: [2,3,1]\n",
        "Example 3:\n",
        "\n",
        "Input: root = []\n",
        "Output: []\n",
        "\n",
        "Constraints:\n",
        "\n",
        "The number of nodes in the tree is in the range [0, 100].\n",
        "-100 <= Node.val <= 100"
      ],
      "metadata": {
        "id": "Ls_cSDzCJJ67"
      }
    },
    {
      "cell_type": "code",
      "execution_count": null,
      "metadata": {
        "id": "LZiyRGYPI_H0"
      },
      "outputs": [],
      "source": [
        "# Definition for a binary tree node.\n",
        "# class TreeNode:\n",
        "def __init__(self, val=0, left=None, right=None):\n",
        "    self.val = val\n",
        "    self.left = left\n",
        "    self.right = right\n",
        "\n",
        "class Solution:\n",
        "    def invertTree(self, root: Optional[TreeNode]) -> Optional[TreeNode]:\n",
        "        if root == None:\n",
        "            return root\n",
        "\n",
        "        queue = [root]\n",
        "\n",
        "        while len(queue) > 0:\n",
        "            current = queue.pop(0)\n",
        "\n",
        "            if current.left != None:\n",
        "                queue.append(current.left)\n",
        "            if current.right != None:\n",
        "                queue.append(current.right)\n",
        "            [current.right, current.left] = [current.left, current.right]\n",
        "\n",
        "\n",
        "        return root"
      ]
    },
    {
      "cell_type": "markdown",
      "source": [
        "152. Maximum Product Subarray\n",
        "\n",
        "Given an integer array nums, find a\n",
        "subarray\n",
        " that has the largest product, and return the product.\n",
        "\n",
        "The test cases are generated so that the answer will fit in a 32-bit integer.\n",
        "\n",
        "\n",
        "\n",
        "Example 1:\n",
        "\n",
        "Input: nums = [2,3,-2,4]\n",
        "Output: 6\n",
        "Explanation: [2,3] has the largest product 6.\n",
        "Example 2:\n",
        "\n",
        "Input: nums = [-2,0,-1]\n",
        "Output: 0\n",
        "Explanation: The result cannot be 2, because [-2,-1] is not a subarray.\n",
        "\n",
        "\n",
        "Constraints:\n",
        "\n",
        "1 <= nums.length <= 2 * 104\n",
        "-10 <= nums[i] <= 10\n",
        "The product of any subarray of nums is guaranteed to fit in a 32-bit integer."
      ],
      "metadata": {
        "id": "dByHBpsyUkks"
      }
    },
    {
      "cell_type": "code",
      "source": [
        "class Solution:\n",
        "    def maxProduct(self, nums: List[int]) -> int:\n",
        "        n = len(nums)\n",
        "        if n == 1:\n",
        "            return nums[0]\n",
        "\n",
        "        max_value = nums[0]\n",
        "        left_value = right_value = 1\n",
        "\n",
        "        for i in range(n):\n",
        "            left_value *= nums[i]\n",
        "            max_value = max(left_value, max_value)\n",
        "            if left_value == 0:\n",
        "                left_value = 1\n",
        "\n",
        "            right_value *= nums[n - i - 1]\n",
        "            max_value = max(max_value, right_value)\n",
        "            if right_value == 0:\n",
        "                right_value = 1\n",
        "\n",
        "        return max_value"
      ],
      "metadata": {
        "id": "d_j6WGkpUsNv"
      },
      "execution_count": null,
      "outputs": []
    },
    {
      "cell_type": "markdown",
      "source": [
        "2352. Equal Row and Column Pairs\n",
        "\n",
        "Given a 0-indexed n x n integer matrix grid, return the number of pairs (ri, cj) such that row ri and column cj are equal.\n",
        "\n",
        "A row and column pair is considered equal if they contain the same elements in the same order (i.e., an equal array).\n",
        "\n",
        "\n",
        "\n",
        "Example 1:\n",
        "\n",
        "\n",
        "Input: grid = [[3,2,1],[1,7,6],[2,7,7]]\n",
        "Output: 1\n",
        "Explanation: There is 1 equal row and column pair:\n",
        "- (Row 2, Column 1): [2,7,7]\n",
        "Example 2:\n",
        "\n",
        "\n",
        "Input: grid = [[3,1,2,2],[1,4,4,5],[2,4,2,2],[2,4,2,2]]\n",
        "Output: 3\n",
        "Explanation: There are 3 equal row and column pairs:\n",
        "- (Row 0, Column 0): [3,1,2,2]\n",
        "- (Row 2, Column 2): [2,4,2,2]\n",
        "- (Row 3, Column 2): [2,4,2,2]\n",
        "\n",
        "\n",
        "Constraints:\n",
        "\n",
        "n == grid.length == grid[i].length\n",
        "1 <= n <= 200\n",
        "1 <= grid[i][j] <= 105"
      ],
      "metadata": {
        "id": "Dct0rAB1RSd7"
      }
    },
    {
      "cell_type": "code",
      "source": [
        "class Solution:\n",
        "    def equalPairs(self, grid: List[List[int]]) -> int:\n",
        "        rows = []\n",
        "        columns = []\n",
        "        i = 0\n",
        "        while i < len(grid):\n",
        "            column = []\n",
        "            for row in grid:\n",
        "                column.append(row[i])\n",
        "            columns.append(column)\n",
        "            i += 1\n",
        "        print(columns)\n",
        "\n",
        "        count = 0\n",
        "        for row in grid:\n",
        "            for column in columns:\n",
        "                if row == column:\n",
        "                    count += 1\n",
        "        return count"
      ],
      "metadata": {
        "id": "4_Er0iFT97nF"
      },
      "execution_count": null,
      "outputs": []
    },
    {
      "cell_type": "markdown",
      "source": [
        "2390. Removing Stars From a String\n",
        "\n",
        "You are given a string s, which contains stars *.\n",
        "\n",
        "In one operation, you can:\n",
        "\n",
        "Choose a star in s.\n",
        "Remove the closest non-star character to its left, as well as remove the star itself.\n",
        "Return the string after all stars have been removed.\n",
        "\n",
        "Note:\n",
        "\n",
        "The input will be generated such that the operation is always possible.\n",
        "It can be shown that the resulting string will always be unique.\n",
        "\n",
        "\n",
        "Example 1:\n",
        "\n",
        "Input: s = \"leet**cod*e\"\n",
        "Output: \"lecoe\"\n",
        "Explanation: Performing the removals from left to right:\n",
        "- The closest character to the 1st star is 't' in \"leet**cod*e\". s becomes \"lee*cod*e\".\n",
        "- The closest character to the 2nd star is 'e' in \"lee*cod*e\". s becomes \"lecod*e\".\n",
        "- The closest character to the 3rd star is 'd' in \"lecod*e\". s becomes \"lecoe\".\n",
        "There are no more stars, so we return \"lecoe\".\n",
        "Example 2:\n",
        "\n",
        "Input: s = \"erase*****\"\n",
        "Output: \"\"\n",
        "Explanation: The entire string is removed, so we return an empty string.\n",
        "\n",
        "\n",
        "Constraints:\n",
        "\n",
        "1 <= s.length <= 105\n",
        "s consists of lowercase English letters and stars *.\n",
        "The operation above can be performed on s."
      ],
      "metadata": {
        "id": "bLolZ9fGWW_E"
      }
    },
    {
      "cell_type": "code",
      "source": [
        "class Solution:\n",
        "    def removeStars(self, s: str) -> str:\n",
        "        stack = []\n",
        "\n",
        "        for char in s:\n",
        "            if char != '*':\n",
        "                stack.append(char)\n",
        "            else:\n",
        "                stack.pop()\n",
        "\n",
        "        return ''.join(stack)"
      ],
      "metadata": {
        "id": "gfHNwG24WeaR"
      },
      "execution_count": null,
      "outputs": []
    },
    {
      "cell_type": "markdown",
      "source": [
        "102. Binary Tree Level Order Traversal\n",
        "\n",
        "Given the root of a binary tree, return the level order traversal of its nodes' values. (i.e., from left to right, level by level).\n",
        "\n",
        "\n",
        "\n",
        "Example 1:\n",
        "\n",
        "\n",
        "Input: root = [3,9,20,null,null,15,7]\n",
        "Output: [[3],[9,20],[15,7]]\n",
        "Example 2:\n",
        "\n",
        "Input: root = [1]\n",
        "Output: [[1]]\n",
        "Example 3:\n",
        "\n",
        "Input: root = []\n",
        "Output: []\n",
        "\n",
        "\n",
        "Constraints:\n",
        "\n",
        "The number of nodes in the tree is in the range [0, 2000].\n",
        "-1000 <= Node.val <= 1000"
      ],
      "metadata": {
        "id": "lSorApS5OkEC"
      }
    },
    {
      "cell_type": "code",
      "source": [
        "Definition for a binary tree node.\n",
        "class TreeNode:\n",
        "    def __init__(self, val=0, left=None, right=None):\n",
        "        self.val = val\n",
        "        self.left = left\n",
        "        self.right = right\n",
        "\n",
        "class Solution:\n",
        "    def levelOrder(self, root: Optional[TreeNode]) -> List[List[int]]:\n",
        "        if not root: return []\n",
        "\n",
        "        stack = [(root,0)]\n",
        "        levels = []\n",
        "\n",
        "        while stack:\n",
        "            current, lvl_num = stack.pop()\n",
        "            if len(levels) == lvl_num:\n",
        "                levels.append([current.val])\n",
        "            else:\n",
        "                levels[lvl_num].append(current.val)\n",
        "\n",
        "            if current.right is not None:\n",
        "              stack.append((current.right, lvl_num + 1))\n",
        "            if current.left is not None:\n",
        "              stack.append((current.left, lvl_num + 1))\n",
        "\n",
        "        return levels"
      ],
      "metadata": {
        "id": "rtjd5ZGUOjcn"
      },
      "execution_count": null,
      "outputs": []
    },
    {
      "cell_type": "markdown",
      "source": [
        "933. Number of Recent Calls\n",
        "\n",
        "You have a RecentCounter class which counts the number of recent requests within a certain time frame.\n",
        "\n",
        "Implement the RecentCounter class:\n",
        "\n",
        "RecentCounter() Initializes the counter with zero recent requests.\n",
        "int ping(int t) Adds a new request at time t, where t represents some time in milliseconds, and returns the number of requests that has happened in the past 3000 milliseconds (including the new request). Specifically, return the number of requests that have happened in the inclusive range [t - 3000, t].\n",
        "It is guaranteed that every call to ping uses a strictly larger value of t than the previous call.\n",
        "\n",
        "\n",
        "\n",
        "Example 1:\n",
        "\n",
        "Input\n",
        "[\"RecentCounter\", \"ping\", \"ping\", \"ping\", \"ping\"]\n",
        "[[], [1], [100], [3001], [3002]]\n",
        "Output\n",
        "[null, 1, 2, 3, 3]\n",
        "\n",
        "Explanation\n",
        "RecentCounter recentCounter = new RecentCounter();\n",
        "recentCounter.ping(1);     // requests = [1], range is [-2999,1], return 1\n",
        "\n",
        "recentCounter.ping(100);   // requests = [1, 100], range is [-2900,100], return 2\n",
        "\n",
        "recentCounter.ping(3001);  // requests = [1, 100, 3001], range is [1,3001], return 3\n",
        "recentCounter.ping(3002);  // requests = [1, 100, 3001, 3002], range is [2,3002], return 3\n",
        "\n",
        "\n",
        "Constraints:\n",
        "\n",
        "1 <= t <= 109\n",
        "Each test case will call ping with strictly increasing values of t.\n",
        "At most 104 calls will be made to ping."
      ],
      "metadata": {
        "id": "_OI2REiRZdAa"
      }
    },
    {
      "cell_type": "code",
      "source": [
        "class RecentCounter:\n",
        "\n",
        "    def __init__(self):\n",
        "        self.records = []\n",
        "        self.start = 0\n",
        "\n",
        "\n",
        "    def ping(self, t: int) -> int:\n",
        "        self.records.append(t)\n",
        "        while self.records[self.start] < t - 3000:\n",
        "            self.start += 1\n",
        "        return len(self.records) - self.start\n",
        "\n",
        "\n",
        "\n",
        "# Your RecentCounter object will be instantiated and called as such:\n",
        "# obj = RecentCounter()\n",
        "# param_1 = obj.ping(t)"
      ],
      "metadata": {
        "id": "IHJFFiHCZjKP"
      },
      "execution_count": null,
      "outputs": []
    },
    {
      "cell_type": "markdown",
      "source": [
        "977. Squares of a Sorted Array\n",
        "\n",
        "Given an integer array nums sorted in non-decreasing order, return an array of the squares of each number sorted in non-decreasing order.\n",
        "\n",
        "\n",
        "\n",
        "Example 1:\n",
        "\n",
        "Input: nums = [-4,-1,0,3,10]\n",
        "Output: [0,1,9,16,100]\n",
        "Explanation: After squaring, the array becomes [16,1,0,9,100].\n",
        "After sorting, it becomes [0,1,9,16,100].\n",
        "Example 2:\n",
        "\n",
        "Input: nums = [-7,-3,2,3,11]\n",
        "Output: [4,9,9,49,121]\n",
        "\n",
        "\n",
        "Constraints:\n",
        "\n",
        "1 <= nums.length <= 104\n",
        "-104 <= nums[i] <= 104\n",
        "nums is sorted in non-decreasing order.\n",
        "\n",
        "\n",
        "Follow up: Squaring each element and sorting the new array is very trivial, could you find an O(n) solution using a different approach?"
      ],
      "metadata": {
        "id": "YwrvakTyM0NN"
      }
    },
    {
      "cell_type": "code",
      "source": [
        "class Solution:\n",
        "    def sortedSquares(self, nums: List[int]) -> List[int]:\n",
        "        left = 0\n",
        "        right = len(nums) - 1\n",
        "        result = [0] * len(nums)\n",
        "\n",
        "        for i in range(len(nums) - 1, -1, -1):\n",
        "            if abs(nums[left]) > abs(nums[right]):\n",
        "                result[i] = nums[left] ** 2\n",
        "                left += 1\n",
        "            else:\n",
        "                result[i] = nums[right] ** 2\n",
        "                right -= 1\n",
        "\n",
        "        return result"
      ],
      "metadata": {
        "id": "xISVGI5HM16Y"
      },
      "execution_count": null,
      "outputs": []
    }
  ]
}