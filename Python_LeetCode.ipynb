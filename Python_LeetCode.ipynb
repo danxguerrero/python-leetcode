{
  "nbformat": 4,
  "nbformat_minor": 0,
  "metadata": {
    "colab": {
      "provenance": [],
      "authorship_tag": "ABX9TyOTQtSoob3Xv7jrFSe6O6pC",
      "include_colab_link": true
    },
    "kernelspec": {
      "name": "python3",
      "display_name": "Python 3"
    },
    "language_info": {
      "name": "python"
    }
  },
  "cells": [
    {
      "cell_type": "markdown",
      "metadata": {
        "id": "view-in-github",
        "colab_type": "text"
      },
      "source": [
        "<a href=\"https://colab.research.google.com/github/danxguerrero/python-leetcode/blob/main/Python_LeetCode.ipynb\" target=\"_parent\"><img src=\"https://colab.research.google.com/assets/colab-badge.svg\" alt=\"Open In Colab\"/></a>"
      ]
    },
    {
      "cell_type": "markdown",
      "source": [
        "226. Invert Binary Tree\n",
        "\n",
        "Given the root of a binary tree, invert the tree, and return its root.\n",
        "\n",
        "Example 1:\n",
        "\n",
        "Input: root = [4,2,7,1,3,6,9]\n",
        "Output: [4,7,2,9,6,3,1]\n",
        "Example 2:\n",
        "\n",
        "Input: root = [2,1,3]\n",
        "Output: [2,3,1]\n",
        "Example 3:\n",
        "\n",
        "Input: root = []\n",
        "Output: []\n",
        "\n",
        "Constraints:\n",
        "\n",
        "The number of nodes in the tree is in the range [0, 100].\n",
        "-100 <= Node.val <= 100"
      ],
      "metadata": {
        "id": "Ls_cSDzCJJ67"
      }
    },
    {
      "cell_type": "code",
      "execution_count": null,
      "metadata": {
        "id": "LZiyRGYPI_H0"
      },
      "outputs": [],
      "source": [
        "# Definition for a binary tree node.\n",
        "# class TreeNode:\n",
        "def __init__(self, val=0, left=None, right=None):\n",
        "    self.val = val\n",
        "    self.left = left\n",
        "    self.right = right\n",
        "\n",
        "class Solution:\n",
        "    def invertTree(self, root: Optional[TreeNode]) -> Optional[TreeNode]:\n",
        "        if root == None:\n",
        "            return root\n",
        "\n",
        "        queue = [root]\n",
        "\n",
        "        while len(queue) > 0:\n",
        "            current = queue.pop(0)\n",
        "\n",
        "            if current.left != None:\n",
        "                queue.append(current.left)\n",
        "            if current.right != None:\n",
        "                queue.append(current.right)\n",
        "            [current.right, current.left] = [current.left, current.right]\n",
        "\n",
        "\n",
        "        return root"
      ]
    }
  ]
}