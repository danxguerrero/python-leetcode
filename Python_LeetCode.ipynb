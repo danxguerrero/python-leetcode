{
  "nbformat": 4,
  "nbformat_minor": 0,
  "metadata": {
    "colab": {
      "provenance": [],
      "authorship_tag": "ABX9TyMyIQQCRhwap3cp+pucV3aJ",
      "include_colab_link": true
    },
    "kernelspec": {
      "name": "python3",
      "display_name": "Python 3"
    },
    "language_info": {
      "name": "python"
    }
  },
  "cells": [
    {
      "cell_type": "markdown",
      "metadata": {
        "id": "view-in-github",
        "colab_type": "text"
      },
      "source": [
        "<a href=\"https://colab.research.google.com/github/danxguerrero/python-leetcode/blob/main/Python_LeetCode.ipynb\" target=\"_parent\"><img src=\"https://colab.research.google.com/assets/colab-badge.svg\" alt=\"Open In Colab\"/></a>"
      ]
    },
    {
      "cell_type": "markdown",
      "source": [
        "226. Invert Binary Tree\n",
        "\n",
        "Given the root of a binary tree, invert the tree, and return its root.\n",
        "\n",
        "Example 1:\n",
        "\n",
        "Input: root = [4,2,7,1,3,6,9]\n",
        "Output: [4,7,2,9,6,3,1]\n",
        "Example 2:\n",
        "\n",
        "Input: root = [2,1,3]\n",
        "Output: [2,3,1]\n",
        "Example 3:\n",
        "\n",
        "Input: root = []\n",
        "Output: []\n",
        "\n",
        "Constraints:\n",
        "\n",
        "The number of nodes in the tree is in the range [0, 100].\n",
        "-100 <= Node.val <= 100"
      ],
      "metadata": {
        "id": "Ls_cSDzCJJ67"
      }
    },
    {
      "cell_type": "code",
      "execution_count": null,
      "metadata": {
        "id": "LZiyRGYPI_H0"
      },
      "outputs": [],
      "source": [
        "# Definition for a binary tree node.\n",
        "# class TreeNode:\n",
        "def __init__(self, val=0, left=None, right=None):\n",
        "    self.val = val\n",
        "    self.left = left\n",
        "    self.right = right\n",
        "\n",
        "class Solution:\n",
        "    def invertTree(self, root: Optional[TreeNode]) -> Optional[TreeNode]:\n",
        "        if root == None:\n",
        "            return root\n",
        "\n",
        "        queue = [root]\n",
        "\n",
        "        while len(queue) > 0:\n",
        "            current = queue.pop(0)\n",
        "\n",
        "            if current.left != None:\n",
        "                queue.append(current.left)\n",
        "            if current.right != None:\n",
        "                queue.append(current.right)\n",
        "            [current.right, current.left] = [current.left, current.right]\n",
        "\n",
        "\n",
        "        return root"
      ]
    },
    {
      "cell_type": "markdown",
      "source": [
        "152. Maximum Product Subarray\n",
        "\n",
        "Given an integer array nums, find a\n",
        "subarray\n",
        " that has the largest product, and return the product.\n",
        "\n",
        "The test cases are generated so that the answer will fit in a 32-bit integer.\n",
        "\n",
        "\n",
        "\n",
        "Example 1:\n",
        "\n",
        "Input: nums = [2,3,-2,4]\n",
        "Output: 6\n",
        "Explanation: [2,3] has the largest product 6.\n",
        "Example 2:\n",
        "\n",
        "Input: nums = [-2,0,-1]\n",
        "Output: 0\n",
        "Explanation: The result cannot be 2, because [-2,-1] is not a subarray.\n",
        "\n",
        "\n",
        "Constraints:\n",
        "\n",
        "1 <= nums.length <= 2 * 104\n",
        "-10 <= nums[i] <= 10\n",
        "The product of any subarray of nums is guaranteed to fit in a 32-bit integer."
      ],
      "metadata": {
        "id": "dByHBpsyUkks"
      }
    },
    {
      "cell_type": "code",
      "source": [
        "class Solution:\n",
        "    def maxProduct(self, nums: List[int]) -> int:\n",
        "        n = len(nums)\n",
        "        if n == 1:\n",
        "            return nums[0]\n",
        "\n",
        "        max_value = nums[0]\n",
        "        left_value = right_value = 1\n",
        "\n",
        "        for i in range(n):\n",
        "            left_value *= nums[i]\n",
        "            max_value = max(left_value, max_value)\n",
        "            if left_value == 0:\n",
        "                left_value = 1\n",
        "\n",
        "            right_value *= nums[n - i - 1]\n",
        "            max_value = max(max_value, right_value)\n",
        "            if right_value == 0:\n",
        "                right_value = 1\n",
        "\n",
        "        return max_value"
      ],
      "metadata": {
        "id": "d_j6WGkpUsNv"
      },
      "execution_count": null,
      "outputs": []
    }
  ]
}